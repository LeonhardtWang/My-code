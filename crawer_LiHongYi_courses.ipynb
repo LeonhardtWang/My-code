{
 "cells": [
  {
   "cell_type": "markdown",
   "metadata": {},
   "source": [
    "下载李宏毅2017春季机器学习课程资料，网址：<http://speech.ee.ntu.edu.tw/~tlkagk/courses_ML17.html>"
   ]
  },
  {
   "cell_type": "code",
   "execution_count": 155,
   "metadata": {
    "scrolled": true
   },
   "outputs": [
    {
     "name": "stdout",
     "output_type": "stream",
     "text": [
      "网址请求成功！\n",
      "第1节课资料下载完成\n",
      "第2节课资料下载完成\n",
      "第3节课资料下载完成\n",
      "第4节课资料下载完成\n",
      "第5节课资料下载完成\n",
      "第6节课资料下载完成\n",
      "第7节课资料下载完成\n",
      "第8节课资料下载完成\n",
      "第9节课资料下载完成\n",
      "第10节课资料下载完成\n",
      "第11节课资料下载完成\n",
      "第12节课资料下载完成\n",
      "第13节课资料下载完成\n",
      "第14节课资料下载完成\n",
      "第15节课资料下载完成\n",
      "第16节课资料下载完成\n",
      "第17节课资料下载完成\n",
      "第18节课资料下载完成\n",
      "第19节课资料下载完成\n",
      "第20节课资料下载完成\n",
      "第21节课资料下载完成\n",
      "第22节课资料下载完成\n",
      "第23节课资料下载完成\n",
      "第24节课资料下载完成\n"
     ]
    }
   ],
   "source": [
    "import requests\n",
    "import re\n",
    "from bs4 import BeautifulSoup\n",
    "import os\n",
    "\n",
    "headers ={\n",
    "    'Accept': 'text/html,application/xhtml+xml,application/xml;q=0.9,image/webp,image/apng,*/*;q=0.8',\n",
    "    'Accept-Encoding': 'gzip, deflate',\n",
    "    'Accept-Language': 'zh-CN,zh;q=0.9',\n",
    "    'Cache-Control': 'max-age=0',\n",
    "    'Connection': 'keep-alive',\n",
    "    'Host': 'speech.ee.ntu.edu.tw',\n",
    "    'If-Modified-Since': 'Fri, 30 Nov 2018 01:14:57 GMT',\n",
    "    'If-None-Match': '\"1526-57bd787132c18\"',\n",
    "    'Upgrade-Insecure-Requests': '1',\n",
    "    'User-Agent': 'Mozilla/5.0 (Linux; Android 6.0; Nexus 5 Build/MRA58N) AppleWebKit/537.36 (KHTML, like Gecko) Chrome/65.0.3325.181 Mobile Safari/537.36'\n",
    "}\n",
    "\n",
    "res = requests.get('http://speech.ee.ntu.edu.tw/~tlkagk/courses_ML17.html', headers=headers)\n",
    "if res.status_code != 200:\n",
    "    print(\"网址请求失败，正重新发起请求……\")\n",
    "    res = requests.get('http://speech.ee.ntu.edu.tw/~tlkagk/courses_ML17.html', headers=headers)\n",
    "print(\"网址请求成功！\")\n",
    "text = re.sub(r'<!--.*?-->', '', res.text, flags=re.S) # 去掉注释\n",
    "\n",
    "re_dirname = re.compile(r'<li>(.*?)<a', flags=re.S)\n",
    "re_link = re.compile(r'href=\"(.*?)\">')\n",
    "re_ill_char = re.compile(r'[\\\\|:*?\"<>|]') # 去掉会导致非法文件名的字符\n",
    "\n",
    "soup = BeautifulSoup(text, 'lxml')\n",
    "items = soup.select('li')\n",
    "\n",
    "num = 1\n",
    "for item in items:\n",
    "    item = str(item)\n",
    "    dirname = re.findall(re_dirname, item)\n",
    "    if not dirname[0]:continue\n",
    "    dirname = str(num) + '_' + re.sub(re_ill_char, ' ', dirname[0].strip()).strip() # 处理掉非法字符\n",
    "    os.mkdir(dirname)\n",
    "    links = re.findall(re_link, item)\n",
    "    for link in links: \n",
    "        # 提取文件类型后缀名\n",
    "        suffix = ''\n",
    "        for s in link[::-1]:\n",
    "            if s == '.':break\n",
    "            suffix = s + suffix\n",
    "        \n",
    "        if suffix == 'mp4':continue # 如果要下载视频,请注释掉\n",
    "        \n",
    "        res_link = requests.get('http://speech.ee.ntu.edu.tw/~tlkagk/'+link)\n",
    "        while res_link.status_code != 200:\n",
    "            print(\"第%d节课链接请求失败，正重新发起请求……\" % num)\n",
    "            res_link = requests.get('http://speech.ee.ntu.edu.tw/~tlkagk/'+link)\n",
    "        with open(dirname+'/'+link.split('/')[-1], 'wb') as f:\n",
    "            f.write(res_link.content)\n",
    "    if suffix not in ['pdf', 'pptx', 'mp4']:continue # 不是下载链接的条目不计\n",
    "    print(\"第%d节课资料下载完成\" % num)\n",
    "    num += 1"
   ]
  },
  {
   "cell_type": "code",
   "execution_count": null,
   "metadata": {},
   "outputs": [],
   "source": []
  }
 ],
 "metadata": {
  "kernelspec": {
   "display_name": "Python 3",
   "language": "python",
   "name": "python3"
  },
  "language_info": {
   "codemirror_mode": {
    "name": "ipython",
    "version": 3
   },
   "file_extension": ".py",
   "mimetype": "text/x-python",
   "name": "python",
   "nbconvert_exporter": "python",
   "pygments_lexer": "ipython3",
   "version": "3.6.4"
  }
 },
 "nbformat": 4,
 "nbformat_minor": 2
}
