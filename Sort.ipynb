{
 "cells": [
  {
   "cell_type": "markdown",
   "metadata": {},
   "source": [
    "<img style=\"float: left;\"  src=\"时间复杂度.png\"  width=\"70%\">"
   ]
  },
  {
   "cell_type": "markdown",
   "metadata": {},
   "source": [
    "**冒泡排序**  \n",
    "+ 比较相邻的元素。如果第一个比第二个大，就交换他们两个。\n",
    "+ 对每一对相邻元素作同样的工作，从开始第一对到结尾的最后一对。这步做完后，最后的元素会是最大的数。\n",
    "+ 针对所有的元素重复以上的步骤，除了最后一个。\n",
    "+ 持续每次对越来越少的元素重复上面的步骤，直到没有任何一对数字需要比较。"
   ]
  },
  {
   "cell_type": "code",
   "execution_count": 11,
   "metadata": {},
   "outputs": [],
   "source": [
    "def bubble_sort(array):\n",
    "    n = len(array)\n",
    "    while n > 0:\n",
    "        for i in range(n-1):\n",
    "            if array[i] > array[i+1]:\n",
    "                array[i], array[i+1] = array[i+1], array[i]\n",
    "        n -= 1\n",
    "    return array"
   ]
  },
  {
   "cell_type": "code",
   "execution_count": 12,
   "metadata": {},
   "outputs": [
    {
     "data": {
      "text/plain": [
       "[1, 3, 3, 4, 4, 5, 6, 10]"
      ]
     },
     "execution_count": 12,
     "metadata": {},
     "output_type": "execute_result"
    }
   ],
   "source": [
    "bubble_sort([3,1,4,3,6,10,4,5])"
   ]
  },
  {
   "cell_type": "markdown",
   "metadata": {},
   "source": [
    "**选择排序**  \n",
    "+  首先在未排序序列中找到最小（大）元素，存放到排序序列的起始位置\n",
    "+  再从剩余未排序元素中继续寻找最小（大）元素，然后放到已排序序列的末尾。\n",
    "+  重复第二步，直到所有元素均排序完毕。"
   ]
  },
  {
   "cell_type": "code",
   "execution_count": 8,
   "metadata": {},
   "outputs": [],
   "source": [
    "def select_sort(array):\n",
    "    for i in range(len(array)):\n",
    "        min_val = array[i]\n",
    "        min_index = i\n",
    "        for j in range(i+1, len(array)):\n",
    "            if array[j] < min_val:\n",
    "                min_val = array[j]\n",
    "                min_index = j\n",
    "        array[i], array[min_index] = array[min_index], array[i]\n",
    "    return array"
   ]
  },
  {
   "cell_type": "code",
   "execution_count": 9,
   "metadata": {},
   "outputs": [
    {
     "data": {
      "text/plain": [
       "[1, 3, 3, 4, 4, 5, 6, 10]"
      ]
     },
     "execution_count": 9,
     "metadata": {},
     "output_type": "execute_result"
    }
   ],
   "source": [
    "select_sort([3,1,4,3,6,10,4,5])"
   ]
  },
  {
   "cell_type": "markdown",
   "metadata": {},
   "source": [
    "**快速排序**  \n",
    "+  从数列中挑出一个元素，称为 “基准”（pivot）;  \n",
    "+  重新排序数列，所有元素比基准值小的摆放在基准前面，所有元素比基准值大的摆在基准的后面（相同的数可以到任一边）。在这个分区退出之后，该基准就处于数列的中间位置。这个称为分区（partition）操作；  \n",
    "+  递归地（recursive）把小于基准值元素的子数列和大于基准值元素的子数列排序；"
   ]
  },
  {
   "cell_type": "code",
   "execution_count": 3,
   "metadata": {},
   "outputs": [],
   "source": [
    "def quick_sort(array):\n",
    "    def recursive(begin, end):\n",
    "        l, r = begin, end\n",
    "        if l >= r:\n",
    "            return\n",
    "        while l < r:\n",
    "            while l < r and array[l] <= array[end]:\n",
    "                l += 1\n",
    "            while l < r and array[r] >= array[end]:\n",
    "                r -= 1\n",
    "            array[l], array[r] = array[r], array[l]\n",
    "        array[l], array[end] = array[end], array[l]\n",
    "        recursive(begin, l-1)\n",
    "        recursive(r+1, end)\n",
    "    recursive(0, len(array)-1)\n",
    "    return array"
   ]
  },
  {
   "cell_type": "code",
   "execution_count": 5,
   "metadata": {},
   "outputs": [
    {
     "data": {
      "text/plain": [
       "[1, 3, 3, 4, 4, 5, 6, 10]"
      ]
     },
     "execution_count": 5,
     "metadata": {},
     "output_type": "execute_result"
    }
   ],
   "source": [
    "quick_sort([3,1,4,3,6,10,4,5])"
   ]
  },
  {
   "cell_type": "code",
   "execution_count": null,
   "metadata": {},
   "outputs": [],
   "source": []
  }
 ],
 "metadata": {
  "kernelspec": {
   "display_name": "Python 3",
   "language": "python",
   "name": "python3"
  },
  "language_info": {
   "codemirror_mode": {
    "name": "ipython",
    "version": 3
   },
   "file_extension": ".py",
   "mimetype": "text/x-python",
   "name": "python",
   "nbconvert_exporter": "python",
   "pygments_lexer": "ipython3",
   "version": "3.6.4"
  }
 },
 "nbformat": 4,
 "nbformat_minor": 2
}
